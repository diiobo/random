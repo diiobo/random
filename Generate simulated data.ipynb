{
 "cells": [
  {
   "cell_type": "markdown",
   "metadata": {},
   "source": [
    "## Function to generate simulated data\n",
    "#### Two domains (X and Y), each with same number os observations but different number of variables. Both X and Y contain the same latent variables underlying their structures in different way\n",
    "\n",
    "I tried to extend the example from Hao-Tings tutorial, so that we can generate bigger-sized datasets. \n",
    "https://github.com/htwangtw/cca_primer/blob/master/cca_notebook.ipynb"
   ]
  },
  {
   "cell_type": "code",
   "execution_count": 2,
   "metadata": {},
   "outputs": [],
   "source": [
    "import numpy as np\n",
    "\n",
    "np.random.seed(42)"
   ]
  },
  {
   "cell_type": "markdown",
   "metadata": {},
   "source": [
    "Generate_data() function generates simulated X and Y data with common latent variables underlying their structure in different ways."
   ]
  },
  {
   "cell_type": "code",
   "execution_count": 51,
   "metadata": {},
   "outputs": [],
   "source": [
    "def generate_data(n_obs, x_nvars, y_nvars, n_latent):\n",
    "    \"\"\"Generate simulated X and Y datasets with common latent variables hidden in the data.\n",
    "    \n",
    "    X will contain latent variables as repeated columns.\n",
    "    Structure underlying X: [l1, l1, l1, l2, l2, l2, (l2)] and if x_nvars%n_latent != 0, the last column is repeated!\n",
    "    \n",
    "    Y will contain latent variables as alternated colums.\n",
    "    Structure underlying Y: [l1, l2, l1, l2, l1, l2, (l2)] and if y_nvars%n_latent != 0, the last column is repeated!\n",
    "    \n",
    "    To add:\n",
    "    - assertions for:\n",
    "        n_obs > n_vars \n",
    "        n_vars > n_latent\n",
    "    \n",
    "    - assertions for expected X and Y shapes\n",
    "        \n",
    "    \n",
    "    Parameters\n",
    "    ----------\n",
    "    n_obs : int\n",
    "        Number of observations (this is common to X and Y)\n",
    "    x_nvars : int\n",
    "        Number of (observed) variables in X dataset\n",
    "    y_nvars : int\n",
    "        Number of (observed) variables in Y dataset\n",
    "    n_latent : int\n",
    "        Number of latent variables hidden in both X and Y datasets\n",
    "    \n",
    "    Returns\n",
    "    -------\n",
    "    X : array\n",
    "        Dataset X of size (n_obs, x_nvars) containing n_latent hidden latent variables\n",
    "    Y : array\n",
    "        Dataset Y of size (n_obs, y_nvars) containing n_latent hidden latent variables\n",
    "    \"\"\"\n",
    "    \n",
    "    # Create latent variables (as columns in l-array)\n",
    "    l_array = np.ones(shape=(n_obs, n_latent))\n",
    "    for i in range(n_latent):\n",
    "        l_array[:,i] = np.random.normal(size=n_obs)    \n",
    "    \n",
    "    lx = np.repeat(l_array, x_nvars//n_latent, axis=1)\n",
    "    if x_nvars%n_latent:  # if x_nvars not multiple of n_latent, repeat last columns as many times necessary\n",
    "        lx = np.hstack((lx, np.tile(lx[:, [-1]], x_nvars%n_latent)))\n",
    "    \n",
    "    ly = np.tile(l_array, y_nvars//n_latent)\n",
    "    if y_nvars%n_latent:  # same for Y dataset\n",
    "        ly = np.hstack((ly, np.tile(ly[:, [-1]], y_nvars%n_latent)))\n",
    "    \n",
    "    # check here that latent_x and y sizes are as expected\n",
    "    \n",
    "    X = lx + np.random.normal(size=(n_obs,x_nvars))\n",
    "    Y = ly + np.random.normal(size=(n_obs,y_nvars))\n",
    "    \n",
    "    return X, Y, lx, ly  #returning lx and ly for checkup only"
   ]
  },
  {
   "cell_type": "code",
   "execution_count": 53,
   "metadata": {},
   "outputs": [
    {
     "name": "stdout",
     "output_type": "stream",
     "text": [
      "[[-1.4220585  -1.4220585  -1.4220585   0.54325696  0.54325696  0.54325696\n",
      "   0.54325696]\n",
      " [ 0.21503194  0.21503194  0.21503194 -1.80758965 -1.80758965 -1.80758965\n",
      "  -1.80758965]\n",
      " [ 1.07336658  1.07336658  1.07336658 -0.6896555  -0.6896555  -0.6896555\n",
      "  -0.6896555 ]\n",
      " [ 0.86957252  0.86957252  0.86957252 -0.05321244 -0.05321244 -0.05321244\n",
      "  -0.05321244]\n",
      " [-0.80973547 -0.80973547 -0.80973547  0.25368355  0.25368355  0.25368355\n",
      "   0.25368355]]\n"
     ]
    }
   ],
   "source": [
    "n_obs = 100\n",
    "n_latent = 2\n",
    "x_nvars = 7\n",
    "y_nvars = 5\n",
    "\n",
    "X, Y, lx, ly = generate_data(n_obs, x_nvars, y_nvars, n_latent)\n",
    "\n",
    "# lx and ly are the latent structures, which I return for checking that they look ok\n",
    "print(lx[:5,:])"
   ]
  },
  {
   "cell_type": "code",
   "execution_count": 54,
   "metadata": {},
   "outputs": [
    {
     "name": "stdout",
     "output_type": "stream",
     "text": [
      "[[-1.4220585   0.54325696 -1.4220585   0.54325696  0.54325696]\n",
      " [ 0.21503194 -1.80758965  0.21503194 -1.80758965 -1.80758965]\n",
      " [ 1.07336658 -0.6896555   1.07336658 -0.6896555  -0.6896555 ]\n",
      " [ 0.86957252 -0.05321244  0.86957252 -0.05321244 -0.05321244]\n",
      " [-0.80973547  0.25368355 -0.80973547  0.25368355  0.25368355]]\n"
     ]
    }
   ],
   "source": [
    "print(ly[:5,:])"
   ]
  },
  {
   "cell_type": "code",
   "execution_count": null,
   "metadata": {},
   "outputs": [],
   "source": []
  },
  {
   "cell_type": "code",
   "execution_count": null,
   "metadata": {},
   "outputs": [],
   "source": []
  },
  {
   "cell_type": "code",
   "execution_count": null,
   "metadata": {},
   "outputs": [],
   "source": []
  },
  {
   "cell_type": "code",
   "execution_count": null,
   "metadata": {},
   "outputs": [],
   "source": []
  }
 ],
 "metadata": {
  "kernelspec": {
   "display_name": "Python 3",
   "language": "python",
   "name": "python3"
  },
  "language_info": {
   "codemirror_mode": {
    "name": "ipython",
    "version": 3
   },
   "file_extension": ".py",
   "mimetype": "text/x-python",
   "name": "python",
   "nbconvert_exporter": "python",
   "pygments_lexer": "ipython3",
   "version": "3.6.4"
  }
 },
 "nbformat": 4,
 "nbformat_minor": 2
}
